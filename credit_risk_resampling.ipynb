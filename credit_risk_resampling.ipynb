{
  "nbformat": 4,
  "nbformat_minor": 0,
  "metadata": {
    "kernelspec": {
      "display_name": "Python 3",
      "language": "python",
      "name": "python3"
    },
    "language_info": {
      "codemirror_mode": {
        "name": "ipython",
        "version": 3
      },
      "file_extension": ".py",
      "mimetype": "text/x-python",
      "name": "python",
      "nbconvert_exporter": "python",
      "pygments_lexer": "ipython3",
      "version": "3.7.7"
    },
    "colab": {
      "name": "credit_risk_resampling.ipynb",
      "provenance": [],
      "collapsed_sections": [],
      "toc_visible": true,
      "include_colab_link": true
    }
  },
  "cells": [
    {
      "cell_type": "markdown",
      "metadata": {
        "id": "view-in-github",
        "colab_type": "text"
      },
      "source": [
        "<a href=\"https://colab.research.google.com/github/msvt37/HW_11_Risky_Business/blob/main/credit_risk_resampling.ipynb\" target=\"_parent\"><img src=\"https://colab.research.google.com/assets/colab-badge.svg\" alt=\"Open In Colab\"/></a>"
      ]
    },
    {
      "cell_type": "markdown",
      "metadata": {
        "id": "ZOF8kbH0UHiu"
      },
      "source": [
        "# Credit Risk Resampling Techniques"
      ]
    },
    {
      "cell_type": "code",
      "metadata": {
        "colab": {
          "base_uri": "https://localhost:8080/"
        },
        "id": "_ddWVBs4UhEq",
        "outputId": "7fcd29b0-19b5-4175-ffd2-9475f5dea4cb"
      },
      "source": [
        "from google.colab import drive\n",
        "drive.mount('/content/drive')"
      ],
      "execution_count": 1,
      "outputs": [
        {
          "output_type": "stream",
          "text": [
            "Mounted at /content/drive\n"
          ],
          "name": "stdout"
        }
      ]
    },
    {
      "cell_type": "code",
      "metadata": {
        "id": "KHsrRjlnUHi0"
      },
      "source": [
        "import warnings\n",
        "warnings.filterwarnings('ignore')"
      ],
      "execution_count": 2,
      "outputs": []
    },
    {
      "cell_type": "code",
      "metadata": {
        "id": "XbcSK_LEUHi0"
      },
      "source": [
        "import numpy as np\n",
        "import pandas as pd\n",
        "from pathlib import Path\n",
        "from collections import Counter"
      ],
      "execution_count": 3,
      "outputs": []
    },
    {
      "cell_type": "markdown",
      "metadata": {
        "id": "qoF-7lgRUHi1"
      },
      "source": [
        "# Read the CSV into DataFrame"
      ]
    },
    {
      "cell_type": "code",
      "metadata": {
        "colab": {
          "base_uri": "https://localhost:8080/",
          "height": 439
        },
        "id": "GZQTg5M6UHi1",
        "outputId": "93343680-2a3b-470a-ee72-634f6c0ab479"
      },
      "source": [
        "# Load the data\n",
        "file_path = Path('/content/drive/MyDrive/Colab Notebooks/ClassificationHW/Starter_Code/Resources/lending_data.csv')\n",
        "df = pd.read_csv(file_path)\n",
        "df\n",
        "\n"
      ],
      "execution_count": 4,
      "outputs": [
        {
          "output_type": "execute_result",
          "data": {
            "text/html": [
              "<div>\n",
              "<style scoped>\n",
              "    .dataframe tbody tr th:only-of-type {\n",
              "        vertical-align: middle;\n",
              "    }\n",
              "\n",
              "    .dataframe tbody tr th {\n",
              "        vertical-align: top;\n",
              "    }\n",
              "\n",
              "    .dataframe thead th {\n",
              "        text-align: right;\n",
              "    }\n",
              "</style>\n",
              "<table border=\"1\" class=\"dataframe\">\n",
              "  <thead>\n",
              "    <tr style=\"text-align: right;\">\n",
              "      <th></th>\n",
              "      <th>loan_size</th>\n",
              "      <th>interest_rate</th>\n",
              "      <th>homeowner</th>\n",
              "      <th>borrower_income</th>\n",
              "      <th>debt_to_income</th>\n",
              "      <th>num_of_accounts</th>\n",
              "      <th>derogatory_marks</th>\n",
              "      <th>total_debt</th>\n",
              "      <th>loan_status</th>\n",
              "    </tr>\n",
              "  </thead>\n",
              "  <tbody>\n",
              "    <tr>\n",
              "      <th>0</th>\n",
              "      <td>10700.0</td>\n",
              "      <td>7.672</td>\n",
              "      <td>own</td>\n",
              "      <td>52800</td>\n",
              "      <td>0.431818</td>\n",
              "      <td>5</td>\n",
              "      <td>1</td>\n",
              "      <td>22800</td>\n",
              "      <td>low_risk</td>\n",
              "    </tr>\n",
              "    <tr>\n",
              "      <th>1</th>\n",
              "      <td>8400.0</td>\n",
              "      <td>6.692</td>\n",
              "      <td>own</td>\n",
              "      <td>43600</td>\n",
              "      <td>0.311927</td>\n",
              "      <td>3</td>\n",
              "      <td>0</td>\n",
              "      <td>13600</td>\n",
              "      <td>low_risk</td>\n",
              "    </tr>\n",
              "    <tr>\n",
              "      <th>2</th>\n",
              "      <td>9000.0</td>\n",
              "      <td>6.963</td>\n",
              "      <td>rent</td>\n",
              "      <td>46100</td>\n",
              "      <td>0.349241</td>\n",
              "      <td>3</td>\n",
              "      <td>0</td>\n",
              "      <td>16100</td>\n",
              "      <td>low_risk</td>\n",
              "    </tr>\n",
              "    <tr>\n",
              "      <th>3</th>\n",
              "      <td>10700.0</td>\n",
              "      <td>7.664</td>\n",
              "      <td>own</td>\n",
              "      <td>52700</td>\n",
              "      <td>0.430740</td>\n",
              "      <td>5</td>\n",
              "      <td>1</td>\n",
              "      <td>22700</td>\n",
              "      <td>low_risk</td>\n",
              "    </tr>\n",
              "    <tr>\n",
              "      <th>4</th>\n",
              "      <td>10800.0</td>\n",
              "      <td>7.698</td>\n",
              "      <td>mortgage</td>\n",
              "      <td>53000</td>\n",
              "      <td>0.433962</td>\n",
              "      <td>5</td>\n",
              "      <td>1</td>\n",
              "      <td>23000</td>\n",
              "      <td>low_risk</td>\n",
              "    </tr>\n",
              "    <tr>\n",
              "      <th>...</th>\n",
              "      <td>...</td>\n",
              "      <td>...</td>\n",
              "      <td>...</td>\n",
              "      <td>...</td>\n",
              "      <td>...</td>\n",
              "      <td>...</td>\n",
              "      <td>...</td>\n",
              "      <td>...</td>\n",
              "      <td>...</td>\n",
              "    </tr>\n",
              "    <tr>\n",
              "      <th>77531</th>\n",
              "      <td>19100.0</td>\n",
              "      <td>11.261</td>\n",
              "      <td>own</td>\n",
              "      <td>86600</td>\n",
              "      <td>0.653580</td>\n",
              "      <td>12</td>\n",
              "      <td>2</td>\n",
              "      <td>56600</td>\n",
              "      <td>high_risk</td>\n",
              "    </tr>\n",
              "    <tr>\n",
              "      <th>77532</th>\n",
              "      <td>17700.0</td>\n",
              "      <td>10.662</td>\n",
              "      <td>mortgage</td>\n",
              "      <td>80900</td>\n",
              "      <td>0.629172</td>\n",
              "      <td>11</td>\n",
              "      <td>2</td>\n",
              "      <td>50900</td>\n",
              "      <td>high_risk</td>\n",
              "    </tr>\n",
              "    <tr>\n",
              "      <th>77533</th>\n",
              "      <td>17600.0</td>\n",
              "      <td>10.595</td>\n",
              "      <td>rent</td>\n",
              "      <td>80300</td>\n",
              "      <td>0.626401</td>\n",
              "      <td>11</td>\n",
              "      <td>2</td>\n",
              "      <td>50300</td>\n",
              "      <td>high_risk</td>\n",
              "    </tr>\n",
              "    <tr>\n",
              "      <th>77534</th>\n",
              "      <td>16300.0</td>\n",
              "      <td>10.068</td>\n",
              "      <td>mortgage</td>\n",
              "      <td>75300</td>\n",
              "      <td>0.601594</td>\n",
              "      <td>10</td>\n",
              "      <td>2</td>\n",
              "      <td>45300</td>\n",
              "      <td>high_risk</td>\n",
              "    </tr>\n",
              "    <tr>\n",
              "      <th>77535</th>\n",
              "      <td>15600.0</td>\n",
              "      <td>9.742</td>\n",
              "      <td>mortgage</td>\n",
              "      <td>72300</td>\n",
              "      <td>0.585062</td>\n",
              "      <td>9</td>\n",
              "      <td>2</td>\n",
              "      <td>42300</td>\n",
              "      <td>high_risk</td>\n",
              "    </tr>\n",
              "  </tbody>\n",
              "</table>\n",
              "<p>77536 rows × 9 columns</p>\n",
              "</div>"
            ],
            "text/plain": [
              "       loan_size  interest_rate  ... total_debt  loan_status\n",
              "0        10700.0          7.672  ...      22800     low_risk\n",
              "1         8400.0          6.692  ...      13600     low_risk\n",
              "2         9000.0          6.963  ...      16100     low_risk\n",
              "3        10700.0          7.664  ...      22700     low_risk\n",
              "4        10800.0          7.698  ...      23000     low_risk\n",
              "...          ...            ...  ...        ...          ...\n",
              "77531    19100.0         11.261  ...      56600    high_risk\n",
              "77532    17700.0         10.662  ...      50900    high_risk\n",
              "77533    17600.0         10.595  ...      50300    high_risk\n",
              "77534    16300.0         10.068  ...      45300    high_risk\n",
              "77535    15600.0          9.742  ...      42300    high_risk\n",
              "\n",
              "[77536 rows x 9 columns]"
            ]
          },
          "metadata": {
            "tags": []
          },
          "execution_count": 4
        }
      ]
    },
    {
      "cell_type": "code",
      "metadata": {
        "id": "wL70dKCjhnmn"
      },
      "source": [
        "from sklearn.preprocessing import LabelEncoder\n",
        "le = LabelEncoder()\n",
        "le.fit(df['homeowner'])\n",
        "df['homeowner'] = le.transform(df['homeowner'])\n",
        "\n",
        "le.fit(df['loan_status'])\n",
        "df['loan_status'] = le.transform(df['loan_status'])\n",
        "\n",
        "#own = 1, rent = 2, mortg = 0\n",
        "# low_risk = 1"
      ],
      "execution_count": 5,
      "outputs": []
    },
    {
      "cell_type": "markdown",
      "metadata": {
        "id": "uv_SCK-sUHi1"
      },
      "source": [
        "# Split the Data into Training and Testing"
      ]
    },
    {
      "cell_type": "code",
      "metadata": {
        "id": "CmN0dw6pUHi1"
      },
      "source": [
        "# Create our features\n",
        "X = df.drop(columns='loan_status')\n",
        "\n",
        "# Create our target\n",
        "y = df[['loan_status']]"
      ],
      "execution_count": 6,
      "outputs": []
    },
    {
      "cell_type": "code",
      "metadata": {
        "colab": {
          "base_uri": "https://localhost:8080/"
        },
        "id": "zD1_WMfQUHi2",
        "outputId": "c72619ef-112d-46ad-da20-98a8a4eeb05e"
      },
      "source": [
        "# Check the balance of our target values\n",
        "y['loan_status'].value_counts()"
      ],
      "execution_count": 7,
      "outputs": [
        {
          "output_type": "execute_result",
          "data": {
            "text/plain": [
              "1    75036\n",
              "0     2500\n",
              "Name: loan_status, dtype: int64"
            ]
          },
          "metadata": {
            "tags": []
          },
          "execution_count": 7
        }
      ]
    },
    {
      "cell_type": "code",
      "metadata": {
        "colab": {
          "base_uri": "https://localhost:8080/",
          "height": 419
        },
        "id": "6m7hTUB2UHi2",
        "outputId": "4e14dd35-49eb-4620-dc3b-902f0b39713d"
      },
      "source": [
        "# Create X_train, X_test, y_train, y_test\n",
        "from sklearn.model_selection import train_test_split\n",
        "X_train, X_test, y_train, y_test = train_test_split(X, y, random_state=1, stratify=y)\n",
        "X_train"
      ],
      "execution_count": 8,
      "outputs": [
        {
          "output_type": "execute_result",
          "data": {
            "text/html": [
              "<div>\n",
              "<style scoped>\n",
              "    .dataframe tbody tr th:only-of-type {\n",
              "        vertical-align: middle;\n",
              "    }\n",
              "\n",
              "    .dataframe tbody tr th {\n",
              "        vertical-align: top;\n",
              "    }\n",
              "\n",
              "    .dataframe thead th {\n",
              "        text-align: right;\n",
              "    }\n",
              "</style>\n",
              "<table border=\"1\" class=\"dataframe\">\n",
              "  <thead>\n",
              "    <tr style=\"text-align: right;\">\n",
              "      <th></th>\n",
              "      <th>loan_size</th>\n",
              "      <th>interest_rate</th>\n",
              "      <th>homeowner</th>\n",
              "      <th>borrower_income</th>\n",
              "      <th>debt_to_income</th>\n",
              "      <th>num_of_accounts</th>\n",
              "      <th>derogatory_marks</th>\n",
              "      <th>total_debt</th>\n",
              "    </tr>\n",
              "  </thead>\n",
              "  <tbody>\n",
              "    <tr>\n",
              "      <th>25729</th>\n",
              "      <td>10100.0</td>\n",
              "      <td>7.402</td>\n",
              "      <td>0</td>\n",
              "      <td>50300</td>\n",
              "      <td>0.403579</td>\n",
              "      <td>4</td>\n",
              "      <td>1</td>\n",
              "      <td>20300</td>\n",
              "    </tr>\n",
              "    <tr>\n",
              "      <th>20176</th>\n",
              "      <td>9200.0</td>\n",
              "      <td>7.049</td>\n",
              "      <td>0</td>\n",
              "      <td>46900</td>\n",
              "      <td>0.360341</td>\n",
              "      <td>3</td>\n",
              "      <td>0</td>\n",
              "      <td>16900</td>\n",
              "    </tr>\n",
              "    <tr>\n",
              "      <th>55080</th>\n",
              "      <td>8800.0</td>\n",
              "      <td>6.870</td>\n",
              "      <td>0</td>\n",
              "      <td>45200</td>\n",
              "      <td>0.336283</td>\n",
              "      <td>3</td>\n",
              "      <td>0</td>\n",
              "      <td>15200</td>\n",
              "    </tr>\n",
              "    <tr>\n",
              "      <th>10410</th>\n",
              "      <td>8900.0</td>\n",
              "      <td>6.919</td>\n",
              "      <td>0</td>\n",
              "      <td>45700</td>\n",
              "      <td>0.343545</td>\n",
              "      <td>3</td>\n",
              "      <td>0</td>\n",
              "      <td>15700</td>\n",
              "    </tr>\n",
              "    <tr>\n",
              "      <th>63110</th>\n",
              "      <td>8500.0</td>\n",
              "      <td>6.731</td>\n",
              "      <td>1</td>\n",
              "      <td>43900</td>\n",
              "      <td>0.316629</td>\n",
              "      <td>3</td>\n",
              "      <td>0</td>\n",
              "      <td>13900</td>\n",
              "    </tr>\n",
              "    <tr>\n",
              "      <th>...</th>\n",
              "      <td>...</td>\n",
              "      <td>...</td>\n",
              "      <td>...</td>\n",
              "      <td>...</td>\n",
              "      <td>...</td>\n",
              "      <td>...</td>\n",
              "      <td>...</td>\n",
              "      <td>...</td>\n",
              "    </tr>\n",
              "    <tr>\n",
              "      <th>4767</th>\n",
              "      <td>12300.0</td>\n",
              "      <td>8.346</td>\n",
              "      <td>0</td>\n",
              "      <td>59100</td>\n",
              "      <td>0.492386</td>\n",
              "      <td>6</td>\n",
              "      <td>1</td>\n",
              "      <td>29100</td>\n",
              "    </tr>\n",
              "    <tr>\n",
              "      <th>26012</th>\n",
              "      <td>8300.0</td>\n",
              "      <td>6.634</td>\n",
              "      <td>1</td>\n",
              "      <td>43000</td>\n",
              "      <td>0.302326</td>\n",
              "      <td>2</td>\n",
              "      <td>0</td>\n",
              "      <td>13000</td>\n",
              "    </tr>\n",
              "    <tr>\n",
              "      <th>58637</th>\n",
              "      <td>6700.0</td>\n",
              "      <td>5.988</td>\n",
              "      <td>0</td>\n",
              "      <td>36900</td>\n",
              "      <td>0.186992</td>\n",
              "      <td>1</td>\n",
              "      <td>0</td>\n",
              "      <td>6900</td>\n",
              "    </tr>\n",
              "    <tr>\n",
              "      <th>23339</th>\n",
              "      <td>9200.0</td>\n",
              "      <td>7.054</td>\n",
              "      <td>0</td>\n",
              "      <td>47000</td>\n",
              "      <td>0.361702</td>\n",
              "      <td>3</td>\n",
              "      <td>0</td>\n",
              "      <td>17000</td>\n",
              "    </tr>\n",
              "    <tr>\n",
              "      <th>45677</th>\n",
              "      <td>7600.0</td>\n",
              "      <td>6.352</td>\n",
              "      <td>0</td>\n",
              "      <td>40400</td>\n",
              "      <td>0.257426</td>\n",
              "      <td>2</td>\n",
              "      <td>0</td>\n",
              "      <td>10400</td>\n",
              "    </tr>\n",
              "  </tbody>\n",
              "</table>\n",
              "<p>58152 rows × 8 columns</p>\n",
              "</div>"
            ],
            "text/plain": [
              "       loan_size  interest_rate  ...  derogatory_marks  total_debt\n",
              "25729    10100.0          7.402  ...                 1       20300\n",
              "20176     9200.0          7.049  ...                 0       16900\n",
              "55080     8800.0          6.870  ...                 0       15200\n",
              "10410     8900.0          6.919  ...                 0       15700\n",
              "63110     8500.0          6.731  ...                 0       13900\n",
              "...          ...            ...  ...               ...         ...\n",
              "4767     12300.0          8.346  ...                 1       29100\n",
              "26012     8300.0          6.634  ...                 0       13000\n",
              "58637     6700.0          5.988  ...                 0        6900\n",
              "23339     9200.0          7.054  ...                 0       17000\n",
              "45677     7600.0          6.352  ...                 0       10400\n",
              "\n",
              "[58152 rows x 8 columns]"
            ]
          },
          "metadata": {
            "tags": []
          },
          "execution_count": 8
        }
      ]
    },
    {
      "cell_type": "markdown",
      "metadata": {
        "id": "Zis9UDVNUHi2"
      },
      "source": [
        "## Data Pre-Processing\n",
        "\n",
        "Scale the training and testing data using the `StandardScaler` from `sklearn`. Remember that when scaling the data, you only scale the features data (`X_train` and `X_testing`)."
      ]
    },
    {
      "cell_type": "code",
      "metadata": {
        "id": "HlsCa2PzUHi3"
      },
      "source": [
        "# Create the StandardScaler instance\n",
        "from sklearn.preprocessing import StandardScaler\n",
        "scaler = StandardScaler()"
      ],
      "execution_count": 9,
      "outputs": []
    },
    {
      "cell_type": "code",
      "metadata": {
        "colab": {
          "base_uri": "https://localhost:8080/"
        },
        "id": "tR-qEEHOUHi3",
        "outputId": "cb8678d4-5b0f-4e46-f387-7c229a43ae2c"
      },
      "source": [
        "# Fit the Standard Scaler with the training data\n",
        "# When fitting scaling functions, only train on the training dataset\n",
        "scaler.fit(X_train)"
      ],
      "execution_count": 10,
      "outputs": [
        {
          "output_type": "execute_result",
          "data": {
            "text/plain": [
              "StandardScaler(copy=True, with_mean=True, with_std=True)"
            ]
          },
          "metadata": {
            "tags": []
          },
          "execution_count": 10
        }
      ]
    },
    {
      "cell_type": "code",
      "metadata": {
        "id": "nWRQ5WVqUHi3"
      },
      "source": [
        "# Scale the training and testing data\n",
        "X_train = scaler.transform(X_train)\n",
        "X_test = scaler.transform(X_test)"
      ],
      "execution_count": 11,
      "outputs": []
    },
    {
      "cell_type": "markdown",
      "metadata": {
        "id": "P652IvPSUHi3"
      },
      "source": [
        "# Simple Logistic Regression"
      ]
    },
    {
      "cell_type": "code",
      "metadata": {
        "colab": {
          "base_uri": "https://localhost:8080/"
        },
        "id": "wT5MsESgUHi3",
        "outputId": "7d17d10e-13ee-4024-db27-8850a7ece47e"
      },
      "source": [
        "from sklearn.linear_model import LogisticRegression\n",
        "model = LogisticRegression(solver='lbfgs', random_state=1)\n",
        "model.fit(X_train, y_train)"
      ],
      "execution_count": 12,
      "outputs": [
        {
          "output_type": "execute_result",
          "data": {
            "text/plain": [
              "LogisticRegression(C=1.0, class_weight=None, dual=False, fit_intercept=True,\n",
              "                   intercept_scaling=1, l1_ratio=None, max_iter=100,\n",
              "                   multi_class='auto', n_jobs=None, penalty='l2',\n",
              "                   random_state=1, solver='lbfgs', tol=0.0001, verbose=0,\n",
              "                   warm_start=False)"
            ]
          },
          "metadata": {
            "tags": []
          },
          "execution_count": 12
        }
      ]
    },
    {
      "cell_type": "code",
      "metadata": {
        "colab": {
          "base_uri": "https://localhost:8080/"
        },
        "id": "EIfN1VfFUHi4",
        "outputId": "d13232fa-6f37-49f3-9a49-2dd48317ab08"
      },
      "source": [
        "# Calculated the balanced accuracy score\n",
        "from sklearn.metrics import balanced_accuracy_score\n",
        "y_pred = model.predict(X_test)\n",
        "balanced_accuracy_score(y_test, y_pred)"
      ],
      "execution_count": 13,
      "outputs": [
        {
          "output_type": "execute_result",
          "data": {
            "text/plain": [
              "0.9892813049736127"
            ]
          },
          "metadata": {
            "tags": []
          },
          "execution_count": 13
        }
      ]
    },
    {
      "cell_type": "code",
      "metadata": {
        "colab": {
          "base_uri": "https://localhost:8080/"
        },
        "id": "8VIiC0CEUHi4",
        "outputId": "6d7d61aa-279b-4e4c-cc55-9d8e981066e7"
      },
      "source": [
        "# Display the confusion matrix\n",
        "from sklearn.metrics import confusion_matrix\n",
        "confusion_matrix(y_test, y_pred)"
      ],
      "execution_count": 14,
      "outputs": [
        {
          "output_type": "execute_result",
          "data": {
            "text/plain": [
              "array([[  615,    10],\n",
              "       [  102, 18657]])"
            ]
          },
          "metadata": {
            "tags": []
          },
          "execution_count": 14
        }
      ]
    },
    {
      "cell_type": "code",
      "metadata": {
        "colab": {
          "base_uri": "https://localhost:8080/"
        },
        "id": "nz_IvWkHUHi4",
        "outputId": "bca36569-1458-4a7b-c42a-6c9ade440c99"
      },
      "source": [
        "# Print the imbalanced classification report\n",
        "from imblearn.metrics import classification_report_imbalanced\n",
        "print(classification_report_imbalanced(y_test, y_pred))"
      ],
      "execution_count": 15,
      "outputs": [
        {
          "output_type": "stream",
          "text": [
            "                   pre       rec       spe        f1       geo       iba       sup\n",
            "\n",
            "          0       0.86      0.98      0.99      0.92      0.99      0.98       625\n",
            "          1       1.00      0.99      0.98      1.00      0.99      0.98     18759\n",
            "\n",
            "avg / total       0.99      0.99      0.98      0.99      0.99      0.98     19384\n",
            "\n"
          ],
          "name": "stdout"
        }
      ]
    },
    {
      "cell_type": "markdown",
      "metadata": {
        "id": "bGc8cOcaUHi4"
      },
      "source": [
        "# Oversampling\n",
        "\n",
        "In this section, you will compare two oversampling algorithms to determine which algorithm results in the best performance. You will oversample the data using the naive random oversampling algorithm and the SMOTE algorithm. For each algorithm, be sure to complete the folliowing steps:\n",
        "\n",
        "1. View the count of the target classes using `Counter` from the collections library. \n",
        "3. Use the resampled data to train a logistic regression model.\n",
        "3. Calculate the balanced accuracy score from sklearn.metrics.\n",
        "4. Print the confusion matrix from sklearn.metrics.\n",
        "5. Generate a classication report using the `imbalanced_classification_report` from imbalanced-learn.\n",
        "\n",
        "Note: Use a random state of 1 for each sampling algorithm to ensure consistency between tests"
      ]
    },
    {
      "cell_type": "markdown",
      "metadata": {
        "id": "oevgE8XPUHi4"
      },
      "source": [
        "### Naive Random Oversampling"
      ]
    },
    {
      "cell_type": "code",
      "metadata": {
        "colab": {
          "base_uri": "https://localhost:8080/"
        },
        "id": "vVlNPYRlUHi5",
        "outputId": "f79d3c96-4029-4811-9974-b9aee68c33ac"
      },
      "source": [
        "# Resample the training data with the RandomOversampler\n",
        "from imblearn.over_sampling import RandomOverSampler\n",
        "ros = RandomOverSampler(random_state=1)\n",
        "X_oversampled, y_overesampled = ros.fit_resample(X_train, y_train)\n",
        "# View the count of target classes with Counter\n",
        "Counter(y_overesampled)"
      ],
      "execution_count": 16,
      "outputs": [
        {
          "output_type": "execute_result",
          "data": {
            "text/plain": [
              "Counter({0: 56277, 1: 56277})"
            ]
          },
          "metadata": {
            "tags": []
          },
          "execution_count": 16
        }
      ]
    },
    {
      "cell_type": "code",
      "metadata": {
        "colab": {
          "base_uri": "https://localhost:8080/"
        },
        "id": "QfiBz_M9UHi5",
        "outputId": "0218ce0e-1aa3-485e-e9b4-5a2038ba8720"
      },
      "source": [
        "# Train the Logistic Regression model using the resampled data\n",
        "model2 = LogisticRegression(solver='lbfgs', random_state=1)\n",
        "model2.fit(X_oversampled, y_overesampled)"
      ],
      "execution_count": 17,
      "outputs": [
        {
          "output_type": "execute_result",
          "data": {
            "text/plain": [
              "LogisticRegression(C=1.0, class_weight=None, dual=False, fit_intercept=True,\n",
              "                   intercept_scaling=1, l1_ratio=None, max_iter=100,\n",
              "                   multi_class='auto', n_jobs=None, penalty='l2',\n",
              "                   random_state=1, solver='lbfgs', tol=0.0001, verbose=0,\n",
              "                   warm_start=False)"
            ]
          },
          "metadata": {
            "tags": []
          },
          "execution_count": 17
        }
      ]
    },
    {
      "cell_type": "code",
      "metadata": {
        "colab": {
          "base_uri": "https://localhost:8080/"
        },
        "id": "YJihhiiUUHi5",
        "outputId": "82c299e0-03d3-4f34-f378-67e1e5f410d3"
      },
      "source": [
        "# Calculated the balanced accuracy score\n",
        "from sklearn.metrics import balanced_accuracy_score\n",
        "y_pred_naive = model2.predict(X_test)\n",
        "balanced_accuracy_score(y_test, y_pred_naive)"
      ],
      "execution_count": 18,
      "outputs": [
        {
          "output_type": "execute_result",
          "data": {
            "text/plain": [
              "0.9946414201183431"
            ]
          },
          "metadata": {
            "tags": []
          },
          "execution_count": 18
        }
      ]
    },
    {
      "cell_type": "code",
      "metadata": {
        "colab": {
          "base_uri": "https://localhost:8080/"
        },
        "id": "2vbC9P6VUHi5",
        "outputId": "f112cc62-7888-4887-b9e8-b72ccfbcd6e8"
      },
      "source": [
        "# Display the confusion matrix\n",
        "from sklearn.metrics import confusion_matrix\n",
        "confusion_matrix(y_test, y_pred_naive)"
      ],
      "execution_count": 19,
      "outputs": [
        {
          "output_type": "execute_result",
          "data": {
            "text/plain": [
              "array([[  622,     3],\n",
              "       [  111, 18648]])"
            ]
          },
          "metadata": {
            "tags": []
          },
          "execution_count": 19
        }
      ]
    },
    {
      "cell_type": "code",
      "metadata": {
        "colab": {
          "base_uri": "https://localhost:8080/"
        },
        "id": "UX6zUy7WUHi5",
        "outputId": "eb3e02c7-9936-4819-9c58-4af7d895fa9f"
      },
      "source": [
        "# Print the imbalanced classification report\n",
        "from imblearn.metrics import classification_report_imbalanced\n",
        "print(classification_report_imbalanced(y_test, y_pred_naive))"
      ],
      "execution_count": 20,
      "outputs": [
        {
          "output_type": "stream",
          "text": [
            "                   pre       rec       spe        f1       geo       iba       sup\n",
            "\n",
            "          0       0.85      1.00      0.99      0.92      0.99      0.99       625\n",
            "          1       1.00      0.99      1.00      1.00      0.99      0.99     18759\n",
            "\n",
            "avg / total       0.99      0.99      1.00      0.99      0.99      0.99     19384\n",
            "\n"
          ],
          "name": "stdout"
        }
      ]
    },
    {
      "cell_type": "markdown",
      "metadata": {
        "id": "Pi5MtyVGUHi5"
      },
      "source": [
        "### SMOTE Oversampling"
      ]
    },
    {
      "cell_type": "code",
      "metadata": {
        "colab": {
          "base_uri": "https://localhost:8080/"
        },
        "id": "Fb02rTLxUHi6",
        "outputId": "cf125211-0702-4eac-e99b-57de074bfb2d"
      },
      "source": [
        "# Resample the training data with SMOTE\n",
        "from imblearn.over_sampling import SMOTE\n",
        "X_smote, y_smote = SMOTE(random_state=1, sampling_strategy=1.0).fit_resample(\n",
        "    X_train, y_train)\n",
        "# View the count of target classes with Counter\n",
        "Counter(y_smote)"
      ],
      "execution_count": 21,
      "outputs": [
        {
          "output_type": "execute_result",
          "data": {
            "text/plain": [
              "Counter({0: 56277, 1: 56277})"
            ]
          },
          "metadata": {
            "tags": []
          },
          "execution_count": 21
        }
      ]
    },
    {
      "cell_type": "code",
      "metadata": {
        "colab": {
          "base_uri": "https://localhost:8080/"
        },
        "id": "cHLsSocxUHi6",
        "outputId": "15a0c9bb-7a8e-4c08-b986-93d300c4d842"
      },
      "source": [
        "# Train the Logistic Regression model using the resampled data\n",
        "model3 = LogisticRegression(solver='lbfgs', random_state=1)\n",
        "model3.fit(X_smote, y_smote)"
      ],
      "execution_count": 22,
      "outputs": [
        {
          "output_type": "execute_result",
          "data": {
            "text/plain": [
              "LogisticRegression(C=1.0, class_weight=None, dual=False, fit_intercept=True,\n",
              "                   intercept_scaling=1, l1_ratio=None, max_iter=100,\n",
              "                   multi_class='auto', n_jobs=None, penalty='l2',\n",
              "                   random_state=1, solver='lbfgs', tol=0.0001, verbose=0,\n",
              "                   warm_start=False)"
            ]
          },
          "metadata": {
            "tags": []
          },
          "execution_count": 22
        }
      ]
    },
    {
      "cell_type": "code",
      "metadata": {
        "colab": {
          "base_uri": "https://localhost:8080/"
        },
        "id": "O0XCV9NuUHi6",
        "outputId": "82d43e71-ea53-4374-c51f-6cf3385e263e"
      },
      "source": [
        "# Calculated the balanced accuracy score\n",
        "y_pred_smote = model3.predict(X_test)\n",
        "balanced_accuracy_score(y_test, y_pred_smote)"
      ],
      "execution_count": 23,
      "outputs": [
        {
          "output_type": "execute_result",
          "data": {
            "text/plain": [
              "0.9946414201183431"
            ]
          },
          "metadata": {
            "tags": []
          },
          "execution_count": 23
        }
      ]
    },
    {
      "cell_type": "code",
      "metadata": {
        "id": "jQ2U0v9yUHi8"
      },
      "source": [
        "# Display the confusion matrix\n",
        "confusion_matrix(y_test, y_pred_smote)"
      ],
      "execution_count": null,
      "outputs": []
    },
    {
      "cell_type": "code",
      "metadata": {
        "colab": {
          "base_uri": "https://localhost:8080/"
        },
        "id": "zM7KpniZUHi8",
        "outputId": "f7fcda7c-cc8b-4585-ab15-08a1ebf0703a"
      },
      "source": [
        "# Print the imbalanced classification report\n",
        "print(classification_report_imbalanced(y_test, y_pred_smote))"
      ],
      "execution_count": null,
      "outputs": [
        {
          "output_type": "stream",
          "text": [
            "                   pre       rec       spe        f1       geo       iba       sup\n",
            "\n",
            "          0       0.85      1.00      0.99      0.92      0.99      0.99       625\n",
            "          1       1.00      0.99      1.00      1.00      0.99      0.99     18759\n",
            "\n",
            "avg / total       0.99      0.99      1.00      0.99      0.99      0.99     19384\n",
            "\n"
          ],
          "name": "stdout"
        }
      ]
    },
    {
      "cell_type": "markdown",
      "metadata": {
        "id": "Ln82IJoBUHi8"
      },
      "source": [
        "# Undersampling\n",
        "\n",
        "In this section, you will test an undersampling algorithm to determine which algorithm results in the best performance compared to the oversampling algorithms above. You will undersample the data using the Cluster Centroids algorithm and complete the folliowing steps:\n",
        "\n",
        "1. View the count of the target classes using `Counter` from the collections library. \n",
        "3. Use the resampled data to train a logistic regression model.\n",
        "3. Calculate the balanced accuracy score from sklearn.metrics.\n",
        "4. Display the confusion matrix from sklearn.metrics.\n",
        "5. Generate a classication report using the `imbalanced_classification_report` from imbalanced-learn.\n",
        "\n",
        "Note: Use a random state of 1 for each sampling algorithm to ensure consistency between tests"
      ]
    },
    {
      "cell_type": "code",
      "metadata": {
        "colab": {
          "base_uri": "https://localhost:8080/"
        },
        "id": "5DjfrpW7UHi9",
        "outputId": "dae8be2e-23fa-40fb-b5e8-20591aaeebd0"
      },
      "source": [
        "# Resample the data using the ClusterCentroids resampler\n",
        "from imblearn.under_sampling import ClusterCentroids\n",
        "cc = ClusterCentroids(random_state=1)\n",
        "X_clustercentr, y_clustercentr = cc.fit_resample(X_train, y_train)\n",
        "# View the count of target classes with Counter\n",
        "Counter(y_clustercentr)"
      ],
      "execution_count": 25,
      "outputs": [
        {
          "output_type": "execute_result",
          "data": {
            "text/plain": [
              "Counter({0: 1875, 1: 1875})"
            ]
          },
          "metadata": {
            "tags": []
          },
          "execution_count": 25
        }
      ]
    },
    {
      "cell_type": "code",
      "metadata": {
        "colab": {
          "base_uri": "https://localhost:8080/"
        },
        "id": "-hq3JMppUHi9",
        "outputId": "ef442b48-e266-4c62-b0fe-0b1c9c5c95c3"
      },
      "source": [
        "# Train the Logistic Regression model using the resampled data\n",
        "model4 = LogisticRegression(solver='lbfgs', random_state=1)\n",
        "model4.fit(X_clustercentr, y_clustercentr)"
      ],
      "execution_count": 26,
      "outputs": [
        {
          "output_type": "execute_result",
          "data": {
            "text/plain": [
              "LogisticRegression(C=1.0, class_weight=None, dual=False, fit_intercept=True,\n",
              "                   intercept_scaling=1, l1_ratio=None, max_iter=100,\n",
              "                   multi_class='auto', n_jobs=None, penalty='l2',\n",
              "                   random_state=1, solver='lbfgs', tol=0.0001, verbose=0,\n",
              "                   warm_start=False)"
            ]
          },
          "metadata": {
            "tags": []
          },
          "execution_count": 26
        }
      ]
    },
    {
      "cell_type": "code",
      "metadata": {
        "colab": {
          "base_uri": "https://localhost:8080/"
        },
        "id": "EMU7m8QrUHi9",
        "outputId": "4c659317-8188-4921-ddcd-e3f2f116374e"
      },
      "source": [
        "# Calculate the balanced accuracy score\n",
        "y_pred_clustercentr = model4.predict(X_test)\n",
        "balanced_accuracy_score(y_test, y_pred_clustercentr)"
      ],
      "execution_count": 27,
      "outputs": [
        {
          "output_type": "execute_result",
          "data": {
            "text/plain": [
              "0.9932813049736127"
            ]
          },
          "metadata": {
            "tags": []
          },
          "execution_count": 27
        }
      ]
    },
    {
      "cell_type": "code",
      "metadata": {
        "colab": {
          "base_uri": "https://localhost:8080/"
        },
        "id": "6H2_NpObUHi9",
        "outputId": "3986e0ce-09b6-4654-8f28-4e9dfe411f98"
      },
      "source": [
        "# Display the confusion matrix\n",
        "confusion_matrix(y_test, y_pred_clustercentr)"
      ],
      "execution_count": 28,
      "outputs": [
        {
          "output_type": "execute_result",
          "data": {
            "text/plain": [
              "array([[  620,     5],\n",
              "       [  102, 18657]])"
            ]
          },
          "metadata": {
            "tags": []
          },
          "execution_count": 28
        }
      ]
    },
    {
      "cell_type": "code",
      "metadata": {
        "colab": {
          "base_uri": "https://localhost:8080/"
        },
        "id": "uElDydIQUHi-",
        "outputId": "d88a57e6-350c-4e04-c262-3e2dc74688c9"
      },
      "source": [
        "# Print the imbalanced classification report\n",
        "print(classification_report_imbalanced(y_test, y_pred_clustercentr))"
      ],
      "execution_count": 29,
      "outputs": [
        {
          "output_type": "stream",
          "text": [
            "                   pre       rec       spe        f1       geo       iba       sup\n",
            "\n",
            "          0       0.86      0.99      0.99      0.92      0.99      0.99       625\n",
            "          1       1.00      0.99      0.99      1.00      0.99      0.99     18759\n",
            "\n",
            "avg / total       1.00      0.99      0.99      0.99      0.99      0.99     19384\n",
            "\n"
          ],
          "name": "stdout"
        }
      ]
    },
    {
      "cell_type": "markdown",
      "metadata": {
        "id": "itniVDSRUHi-"
      },
      "source": [
        "# Combination (Over and Under) Sampling\n",
        "\n",
        "In this section, you will test a combination over- and under-sampling algorithm to determine if the algorithm results in the best performance compared to the other sampling algorithms above. You will resample the data using the SMOTEENN algorithm and complete the folliowing steps:\n",
        "\n",
        "1. View the count of the target classes using `Counter` from the collections library. \n",
        "3. Use the resampled data to train a logistic regression model.\n",
        "3. Calculate the balanced accuracy score from sklearn.metrics.\n",
        "4. Display the confusion matrix from sklearn.metrics.\n",
        "5. Generate a classication report using the `imbalanced_classification_report` from imbalanced-learn.\n",
        "\n",
        "Note: Use a random state of 1 for each sampling algorithm to ensure consistency between tests"
      ]
    },
    {
      "cell_type": "code",
      "metadata": {
        "colab": {
          "base_uri": "https://localhost:8080/"
        },
        "id": "3ItIZdiVUHi-",
        "outputId": "14608178-dc78-4fca-a314-8972e01b9d21"
      },
      "source": [
        "# Resample the training data with SMOTEENN\n",
        "from imblearn.combine import SMOTEENN\n",
        "sm = SMOTEENN(random_state=1)\n",
        "X_smoteenn, y_smoteenn = sm.fit_resample(X_train, y_train)\n",
        "\n",
        "# View the count of target classes with Counter\n",
        "Counter(y_smoteenn)"
      ],
      "execution_count": 30,
      "outputs": [
        {
          "output_type": "execute_result",
          "data": {
            "text/plain": [
              "Counter({0: 55667, 1: 55917})"
            ]
          },
          "metadata": {
            "tags": []
          },
          "execution_count": 30
        }
      ]
    },
    {
      "cell_type": "code",
      "metadata": {
        "colab": {
          "base_uri": "https://localhost:8080/"
        },
        "id": "nYgXSAvnUHi_",
        "outputId": "a2688b51-cbbc-40eb-a84c-5a5e9a14b0e9"
      },
      "source": [
        "# Train the Logistic Regression model using the resampled data\n",
        "model5 = LogisticRegression(solver='lbfgs', random_state=1)\n",
        "model5.fit(X_smoteenn, y_smoteenn)"
      ],
      "execution_count": 31,
      "outputs": [
        {
          "output_type": "execute_result",
          "data": {
            "text/plain": [
              "LogisticRegression(C=1.0, class_weight=None, dual=False, fit_intercept=True,\n",
              "                   intercept_scaling=1, l1_ratio=None, max_iter=100,\n",
              "                   multi_class='auto', n_jobs=None, penalty='l2',\n",
              "                   random_state=1, solver='lbfgs', tol=0.0001, verbose=0,\n",
              "                   warm_start=False)"
            ]
          },
          "metadata": {
            "tags": []
          },
          "execution_count": 31
        }
      ]
    },
    {
      "cell_type": "code",
      "metadata": {
        "colab": {
          "base_uri": "https://localhost:8080/"
        },
        "id": "R4O9dkY-UHi_",
        "outputId": "953b1ded-a0b6-4f69-81b6-1cba34d32026"
      },
      "source": [
        "# Calculate the balanced accuracy score\n",
        "y_pred_smoteenn = model5.predict(X_test)\n",
        "balanced_accuracy_score(y_test, y_pred_smoteenn)"
      ],
      "execution_count": 32,
      "outputs": [
        {
          "output_type": "execute_result",
          "data": {
            "text/plain": [
              "0.9946414201183431"
            ]
          },
          "metadata": {
            "tags": []
          },
          "execution_count": 32
        }
      ]
    },
    {
      "cell_type": "code",
      "metadata": {
        "colab": {
          "base_uri": "https://localhost:8080/"
        },
        "id": "rKZlvwjsUHi_",
        "outputId": "4dcb55b5-0f80-466b-d577-12731d105b8e"
      },
      "source": [
        "# Display the confusion matrix\n",
        "confusion_matrix(y_test, y_pred_smoteenn)"
      ],
      "execution_count": 33,
      "outputs": [
        {
          "output_type": "execute_result",
          "data": {
            "text/plain": [
              "array([[  622,     3],\n",
              "       [  111, 18648]])"
            ]
          },
          "metadata": {
            "tags": []
          },
          "execution_count": 33
        }
      ]
    },
    {
      "cell_type": "code",
      "metadata": {
        "colab": {
          "base_uri": "https://localhost:8080/"
        },
        "id": "Ze_8bq4NUHi_",
        "outputId": "2ebed6f8-438b-4fd2-d571-e02633fa37aa"
      },
      "source": [
        "# Print the imbalanced classification report\n",
        "print(classification_report_imbalanced(y_test, y_pred_smoteenn))"
      ],
      "execution_count": 34,
      "outputs": [
        {
          "output_type": "stream",
          "text": [
            "                   pre       rec       spe        f1       geo       iba       sup\n",
            "\n",
            "          0       0.85      1.00      0.99      0.92      0.99      0.99       625\n",
            "          1       1.00      0.99      1.00      1.00      0.99      0.99     18759\n",
            "\n",
            "avg / total       0.99      0.99      1.00      0.99      0.99      0.99     19384\n",
            "\n"
          ],
          "name": "stdout"
        }
      ]
    },
    {
      "cell_type": "markdown",
      "metadata": {
        "id": "Y4NKGAuEUHi_"
      },
      "source": [
        "# Final Questions\n",
        "\n",
        "1. Which model had the best balanced accuracy score?  It appears that several of the models had scores that were identical.  I used different variables to ensure it was not a carry-over from the earlier code.  \n",
        "\n",
        "   Combination Over and Under:0.9946414201183431\n",
        "   ClusterCentroid Undersampling: 0.9932813049736127\n",
        "   Smote Oversampling: 0.9946414201183431\n",
        "   Naive Random Oversampling: 0.9946414201183431\n",
        "\n",
        "2. Which model had the best recall score?\n",
        "\n",
        "    Recall scores appeared to be the same across the models\n",
        "\n",
        "3. Which model had the best geometric mean score?\n",
        "\n",
        "    As with Recall, the geometric mean appears to be the same   across the models as well.\n"
      ]
    },
    {
      "cell_type": "code",
      "metadata": {
        "id": "w_v-NPidUHjA"
      },
      "source": [
        ""
      ],
      "execution_count": null,
      "outputs": []
    }
  ]
}